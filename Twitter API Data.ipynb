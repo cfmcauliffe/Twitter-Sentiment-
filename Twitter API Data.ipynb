{
 "cells": [
  {
   "cell_type": "code",
   "execution_count": 1,
   "id": "6a105655",
   "metadata": {},
   "outputs": [
    {
     "name": "stdout",
     "output_type": "stream",
     "text": [
      "Requirement already satisfied: tweepy in /Library/Frameworks/Python.framework/Versions/3.11/lib/python3.11/site-packages (4.12.1)\n",
      "Requirement already satisfied: oauthlib<4,>=3.2.0 in /Library/Frameworks/Python.framework/Versions/3.11/lib/python3.11/site-packages (from tweepy) (3.2.2)\n",
      "Requirement already satisfied: requests<3,>=2.27.0 in /Library/Frameworks/Python.framework/Versions/3.11/lib/python3.11/site-packages (from tweepy) (2.28.1)\n",
      "Requirement already satisfied: requests-oauthlib<2,>=1.2.0 in /Library/Frameworks/Python.framework/Versions/3.11/lib/python3.11/site-packages (from tweepy) (1.3.1)\n",
      "Requirement already satisfied: charset-normalizer<3,>=2 in /Library/Frameworks/Python.framework/Versions/3.11/lib/python3.11/site-packages (from requests<3,>=2.27.0->tweepy) (2.1.1)\n",
      "Requirement already satisfied: idna<4,>=2.5 in /Library/Frameworks/Python.framework/Versions/3.11/lib/python3.11/site-packages (from requests<3,>=2.27.0->tweepy) (3.4)\n",
      "Requirement already satisfied: urllib3<1.27,>=1.21.1 in /Library/Frameworks/Python.framework/Versions/3.11/lib/python3.11/site-packages (from requests<3,>=2.27.0->tweepy) (1.26.12)\n",
      "Requirement already satisfied: certifi>=2017.4.17 in /Library/Frameworks/Python.framework/Versions/3.11/lib/python3.11/site-packages (from requests<3,>=2.27.0->tweepy) (2022.9.24)\n",
      "Note: you may need to restart the kernel to use updated packages.\n"
     ]
    }
   ],
   "source": [
    "pip install tweepy"
   ]
  },
  {
   "cell_type": "markdown",
   "id": "3e2aa5ec",
   "metadata": {},
   "source": [
    "Notes \n",
    "\n",
    "tweet_mode='extended' gets the untruncated text of the Tweet "
   ]
  },
  {
   "cell_type": "code",
   "execution_count": 2,
   "id": "4726a046",
   "metadata": {},
   "outputs": [],
   "source": [
    "import configparser\n",
    "import tweepy\n",
    "import pandas as pd\n",
    "\n",
    "# Connect to the config file\n",
    "config = configparser.ConfigParser()\n",
    "config.read('config.ini')\n",
    "\n",
    "# Read in my API tokens and secrets\n",
    "api_key = config['twitter']['api_key']\n",
    "api_key_secret = config['twitter']['api_key_secret']\n",
    "access_token = config['twitter']['access_token']\n",
    "access_token_secret = config['twitter']['access_token_secret']"
   ]
  },
  {
   "cell_type": "code",
   "execution_count": 3,
   "id": "e82d5406",
   "metadata": {},
   "outputs": [],
   "source": [
    "# Authentication steps \n",
    "auth = tweepy.OAuthHandler(api_key, api_key_secret)\n",
    "auth.set_access_token(access_token, access_token_secret)\n",
    "api = tweepy.API(auth)"
   ]
  },
  {
   "cell_type": "code",
   "execution_count": 4,
   "id": "8649595a",
   "metadata": {},
   "outputs": [],
   "source": [
    "# Get 200 tweets every time and add it onto the list (200 max tweets per request). Keep looping until there's no more to fetch.\n",
    "\n",
    "\n",
    "# screen_name = 'BarackObama'\n",
    "# tweets = []\n",
    "# fetchedTweets = api.user_timeline(screen_name = username, count = 200)\n",
    "# tweets.extend(fetchedTweets)\n",
    "# lastTweetInList = tweets[-1].id - 1\n",
    "\n",
    "# while (len(fetchedTweets) > 0):\n",
    "#         fetchedTweets = api.user_timeline(screen_name = username, count = 200, max_id = lastTweetInList)\n",
    "#         tweets.extend(fetchedTweets)\n",
    "#         lastTweetInList = tweets[-1].id - 1\n",
    "#         print(f\"Catched {len(tweets)} tweets so far.\")"
   ]
  },
  {
   "cell_type": "code",
   "execution_count": 5,
   "id": "8f7a4653",
   "metadata": {},
   "outputs": [],
   "source": [
    "# tweets"
   ]
  },
  {
   "cell_type": "code",
   "execution_count": 6,
   "id": "33c8ee91",
   "metadata": {},
   "outputs": [],
   "source": [
    "# columns = ['TweetId', 'Date','User', 'Tweet', 'Likes' , 'Retweets']\n",
    "# data = []\n",
    "\n",
    "# for tweet in tweets:\n",
    "#     data.append([tweet.id, tweet.created_at, tweet.user.screen_name, tweet.text, tweet.favorite_count, tweet.retweet_count])\n",
    "\n",
    "# df = pd.DataFrame(data, columns=columns)\n",
    "\n",
    "# print(df)"
   ]
  },
  {
   "cell_type": "code",
   "execution_count": 7,
   "id": "5aadbd26",
   "metadata": {},
   "outputs": [],
   "source": [
    "# get the list of people from the csv\n",
    "import csv\n",
    "file = open(\"twitter_handles.csv\", \"r\")\n",
    "data = list(csv.reader(file, delimiter=\",\"))\n",
    "file.close()"
   ]
  },
  {
   "cell_type": "code",
   "execution_count": 8,
   "id": "b9fd2fd3",
   "metadata": {},
   "outputs": [
    {
     "data": {
      "text/plain": [
       "['goodreads',\n",
       " 'sparknotes',\n",
       " 'bg_bookclub',\n",
       " 'margaretatwood',\n",
       " 'lrb',\n",
       " 'stephenking',\n",
       " 'rampcapitalLLC',\n",
       " 'lord_voldemort7',\n",
       " 'stevemartintogo',\n",
       " 'alyankovic',\n",
       " 'conanobrien',\n",
       " 'stephenathome',\n",
       " 'thetweetofgod',\n",
       " 'bronxZooscobra',\n",
       " 'yourawaymessage',\n",
       " 'theonion',\n",
       " 'foxnews',\n",
       " 'oann',\n",
       " 'forbes',\n",
       " 'bbcworld',\n",
       " 'realdonaldtrump',\n",
       " 'feministtswift',\n",
       " 'potus',\n",
       " 'vp',\n",
       " 'gopleader',\n",
       " 'govrondesantis',\n",
       " 'aoc',\n",
       " 'antonioguterres',\n",
       " 'kenjennings',\n",
       " 'brainpicker',\n",
       " 'mental_floss']"
      ]
     },
     "execution_count": 8,
     "metadata": {},
     "output_type": "execute_result"
    }
   ],
   "source": [
    "flat_list = [item for sublist in data for item in sublist]\n",
    "flat_list.pop(0)\n",
    "flat_list\n",
    "screen_name_list = flat_list\n",
    "part_1 = screen_name_list[:50]\n",
    "part_1\n",
    "\n",
    "# skipping index 50 because its paulocoelho and his tweets are in spanish\n",
    "part_2 = screen_name_list[51:]\n",
    "part_2"
   ]
  },
  {
   "cell_type": "code",
   "execution_count": 9,
   "id": "430cf908",
   "metadata": {},
   "outputs": [],
   "source": [
    "# screen_name_list = ['BarackObama']\n",
    "data = []\n",
    "\n",
    "def get_tweets(name):\n",
    "    username = name\n",
    "    tweets = []\n",
    "    fetchedTweets = api.user_timeline(screen_name = username, count = 200, include_rts = False, tweet_mode='extended')\n",
    "    tweets.extend(fetchedTweets)\n",
    "    lastTweetInList = tweets[-1].id - 1\n",
    "\n",
    "    while (len(fetchedTweets) > 0):\n",
    "        fetchedTweets = api.user_timeline(screen_name = username, count = 200, include_rts = False, tweet_mode='extended', max_id = lastTweetInList)\n",
    "        tweets.extend(fetchedTweets)\n",
    "        lastTweetInList = tweets[-1].id - 1    \n",
    "    for tweet in tweets:\n",
    "        data.append([tweet.id, tweet.created_at, tweet.user.screen_name, tweet.full_text, tweet.favorite_count, tweet.retweet_count])\n",
    "    return(data)\n",
    "    "
   ]
  },
  {
   "cell_type": "code",
   "execution_count": 10,
   "id": "d6ebb951",
   "metadata": {},
   "outputs": [],
   "source": [
    "for name in part_1:\n",
    "    get_tweets(name)"
   ]
  },
  {
   "cell_type": "code",
   "execution_count": 11,
   "id": "337a1fc7",
   "metadata": {},
   "outputs": [
    {
     "name": "stdout",
     "output_type": "stream",
     "text": [
      "                    TweetId                      Date          User  \\\n",
      "0       1600907621279596544 2022-12-08 17:38:14+00:00   BarackObama   \n",
      "1       1600907620113682435 2022-12-08 17:38:14+00:00   BarackObama   \n",
      "2       1600907618859376641 2022-12-08 17:38:14+00:00   BarackObama   \n",
      "3       1600870440591036416 2022-12-08 15:10:30+00:00   BarackObama   \n",
      "4       1600364778626568193 2022-12-07 05:41:11+00:00   BarackObama   \n",
      "...                     ...                       ...           ...   \n",
      "132782  1539313893553516545 2022-06-21 18:26:45+00:00  TheBookMaven   \n",
      "132783  1539266905407639556 2022-06-21 15:20:03+00:00  TheBookMaven   \n",
      "132784  1539266745332113409 2022-06-21 15:19:24+00:00  TheBookMaven   \n",
      "132785  1539263389133848583 2022-06-21 15:06:04+00:00  TheBookMaven   \n",
      "132786  1539258697767084032 2022-06-21 14:47:26+00:00  TheBookMaven   \n",
      "\n",
      "                                                    Tweet  Likes  Retweets  \n",
      "0       It’s a landmark moment in the fight for equali...   7768       768  \n",
      "1       By mandating the federal recognition of same-s...   9794      1172  \n",
      "2       In 2015, when the Supreme Court recognized the...  30029      3675  \n",
      "3       Grateful for the long-overdue release of Britt...  51297      5691  \n",
      "4       Once again, Georgians have proven that when it...  91266      9060  \n",
      "...                                                   ...    ...       ...  \n",
      "132782                      @FreeJavelins O frabjous day!      1         0  \n",
      "132783  @BillyLandes Thank YOU but I hope I never know...      1         0  \n",
      "132784                         @Danchaon @mdbell79 HAHAHA      1         0  \n",
      "132785  @mdbell79 @Danchaon I cringe at \"yummy\" AND \"t...      4         0  \n",
      "132786  @KaminskiTheresa You honor me with your RT, T. Xx      2         0  \n",
      "\n",
      "[132787 rows x 6 columns]\n"
     ]
    }
   ],
   "source": [
    "columns = ['TweetId', 'Date','User', 'Tweet', 'Likes' , 'Retweets']\n",
    "df = pd.DataFrame(data, columns=columns)\n",
    "print(df)"
   ]
  },
  {
   "cell_type": "code",
   "execution_count": 12,
   "id": "90d1a8ba",
   "metadata": {},
   "outputs": [],
   "source": [
    "# was able to pass a filter through function to remove retweets \n",
    "\n",
    "# drops rows with no likes or retweets because those signal they retweeted someone elses post or it was just a response with no significance\n",
    "# df = df[df.Likes != 0]\n",
    "# df = df[df.Retweets != 0]\n",
    "# df = df.reset_index(drop = True)"
   ]
  },
  {
   "cell_type": "code",
   "execution_count": 14,
   "id": "4b667832",
   "metadata": {},
   "outputs": [],
   "source": [
    "for name in part_2:\n",
    "    get_tweets(name)"
   ]
  },
  {
   "cell_type": "code",
   "execution_count": 15,
   "id": "b4a86802",
   "metadata": {},
   "outputs": [
    {
     "data": {
      "text/html": [
       "<div>\n",
       "<style scoped>\n",
       "    .dataframe tbody tr th:only-of-type {\n",
       "        vertical-align: middle;\n",
       "    }\n",
       "\n",
       "    .dataframe tbody tr th {\n",
       "        vertical-align: top;\n",
       "    }\n",
       "\n",
       "    .dataframe thead th {\n",
       "        text-align: right;\n",
       "    }\n",
       "</style>\n",
       "<table border=\"1\" class=\"dataframe\">\n",
       "  <thead>\n",
       "    <tr style=\"text-align: right;\">\n",
       "      <th></th>\n",
       "      <th>TweetId</th>\n",
       "      <th>Date</th>\n",
       "      <th>User</th>\n",
       "      <th>Tweet</th>\n",
       "      <th>Likes</th>\n",
       "      <th>Retweets</th>\n",
       "    </tr>\n",
       "  </thead>\n",
       "  <tbody>\n",
       "    <tr>\n",
       "      <th>0</th>\n",
       "      <td>1600907621279596544</td>\n",
       "      <td>2022-12-08 17:38:14+00:00</td>\n",
       "      <td>BarackObama</td>\n",
       "      <td>It’s a landmark moment in the fight for equali...</td>\n",
       "      <td>7768</td>\n",
       "      <td>768</td>\n",
       "    </tr>\n",
       "    <tr>\n",
       "      <th>1</th>\n",
       "      <td>1600907620113682435</td>\n",
       "      <td>2022-12-08 17:38:14+00:00</td>\n",
       "      <td>BarackObama</td>\n",
       "      <td>By mandating the federal recognition of same-s...</td>\n",
       "      <td>9794</td>\n",
       "      <td>1172</td>\n",
       "    </tr>\n",
       "    <tr>\n",
       "      <th>2</th>\n",
       "      <td>1600907618859376641</td>\n",
       "      <td>2022-12-08 17:38:14+00:00</td>\n",
       "      <td>BarackObama</td>\n",
       "      <td>In 2015, when the Supreme Court recognized the...</td>\n",
       "      <td>30029</td>\n",
       "      <td>3675</td>\n",
       "    </tr>\n",
       "    <tr>\n",
       "      <th>3</th>\n",
       "      <td>1600870440591036416</td>\n",
       "      <td>2022-12-08 15:10:30+00:00</td>\n",
       "      <td>BarackObama</td>\n",
       "      <td>Grateful for the long-overdue release of Britt...</td>\n",
       "      <td>51297</td>\n",
       "      <td>5691</td>\n",
       "    </tr>\n",
       "    <tr>\n",
       "      <th>4</th>\n",
       "      <td>1600364778626568193</td>\n",
       "      <td>2022-12-07 05:41:11+00:00</td>\n",
       "      <td>BarackObama</td>\n",
       "      <td>Once again, Georgians have proven that when it...</td>\n",
       "      <td>91266</td>\n",
       "      <td>9060</td>\n",
       "    </tr>\n",
       "    <tr>\n",
       "      <th>...</th>\n",
       "      <td>...</td>\n",
       "      <td>...</td>\n",
       "      <td>...</td>\n",
       "      <td>...</td>\n",
       "      <td>...</td>\n",
       "      <td>...</td>\n",
       "    </tr>\n",
       "    <tr>\n",
       "      <th>214501</th>\n",
       "      <td>1563536202241675268</td>\n",
       "      <td>2022-08-27 14:37:34+00:00</td>\n",
       "      <td>mental_floss</td>\n",
       "      <td>The K dates back to the earliest days of Ameri...</td>\n",
       "      <td>9</td>\n",
       "      <td>3</td>\n",
       "    </tr>\n",
       "    <tr>\n",
       "      <th>214502</th>\n",
       "      <td>1563530680398520321</td>\n",
       "      <td>2022-08-27 14:15:37+00:00</td>\n",
       "      <td>mental_floss</td>\n",
       "      <td>All you need is an onion and a grilling fork.\\...</td>\n",
       "      <td>18</td>\n",
       "      <td>1</td>\n",
       "    </tr>\n",
       "    <tr>\n",
       "      <th>214503</th>\n",
       "      <td>1563524714127327232</td>\n",
       "      <td>2022-08-27 13:51:55+00:00</td>\n",
       "      <td>mental_floss</td>\n",
       "      <td>Is being an I.N.F.J. a load of C.R.A.P.? That ...</td>\n",
       "      <td>16</td>\n",
       "      <td>6</td>\n",
       "    </tr>\n",
       "    <tr>\n",
       "      <th>214504</th>\n",
       "      <td>1563519429132324874</td>\n",
       "      <td>2022-08-27 13:30:55+00:00</td>\n",
       "      <td>mental_floss</td>\n",
       "      <td>No matter what you’re a fan of—math, music, St...</td>\n",
       "      <td>18</td>\n",
       "      <td>2</td>\n",
       "    </tr>\n",
       "    <tr>\n",
       "      <th>214505</th>\n",
       "      <td>1563514277574520832</td>\n",
       "      <td>2022-08-27 13:10:27+00:00</td>\n",
       "      <td>mental_floss</td>\n",
       "      <td>Even on days dotted with cloudy skies, up to 8...</td>\n",
       "      <td>8</td>\n",
       "      <td>4</td>\n",
       "    </tr>\n",
       "  </tbody>\n",
       "</table>\n",
       "<p>214506 rows × 6 columns</p>\n",
       "</div>"
      ],
      "text/plain": [
       "                    TweetId                      Date          User  \\\n",
       "0       1600907621279596544 2022-12-08 17:38:14+00:00   BarackObama   \n",
       "1       1600907620113682435 2022-12-08 17:38:14+00:00   BarackObama   \n",
       "2       1600907618859376641 2022-12-08 17:38:14+00:00   BarackObama   \n",
       "3       1600870440591036416 2022-12-08 15:10:30+00:00   BarackObama   \n",
       "4       1600364778626568193 2022-12-07 05:41:11+00:00   BarackObama   \n",
       "...                     ...                       ...           ...   \n",
       "214501  1563536202241675268 2022-08-27 14:37:34+00:00  mental_floss   \n",
       "214502  1563530680398520321 2022-08-27 14:15:37+00:00  mental_floss   \n",
       "214503  1563524714127327232 2022-08-27 13:51:55+00:00  mental_floss   \n",
       "214504  1563519429132324874 2022-08-27 13:30:55+00:00  mental_floss   \n",
       "214505  1563514277574520832 2022-08-27 13:10:27+00:00  mental_floss   \n",
       "\n",
       "                                                    Tweet  Likes  Retweets  \n",
       "0       It’s a landmark moment in the fight for equali...   7768       768  \n",
       "1       By mandating the federal recognition of same-s...   9794      1172  \n",
       "2       In 2015, when the Supreme Court recognized the...  30029      3675  \n",
       "3       Grateful for the long-overdue release of Britt...  51297      5691  \n",
       "4       Once again, Georgians have proven that when it...  91266      9060  \n",
       "...                                                   ...    ...       ...  \n",
       "214501  The K dates back to the earliest days of Ameri...      9         3  \n",
       "214502  All you need is an onion and a grilling fork.\\...     18         1  \n",
       "214503  Is being an I.N.F.J. a load of C.R.A.P.? That ...     16         6  \n",
       "214504  No matter what you’re a fan of—math, music, St...     18         2  \n",
       "214505  Even on days dotted with cloudy skies, up to 8...      8         4  \n",
       "\n",
       "[214506 rows x 6 columns]"
      ]
     },
     "execution_count": 15,
     "metadata": {},
     "output_type": "execute_result"
    }
   ],
   "source": [
    "columns = ['TweetId', 'Date','User', 'Tweet', 'Likes' , 'Retweets']\n",
    "df2 = pd.DataFrame(data, columns=columns)\n",
    "\n",
    "# df2 = df2[df2.Likes != 0]\n",
    "# df2 = df[df2.Retweets != 0]\n",
    "# df2 = df2.reset_index(drop = True)\n",
    "df2"
   ]
  },
  {
   "cell_type": "code",
   "execution_count": 16,
   "id": "c29e2534",
   "metadata": {},
   "outputs": [],
   "source": [
    "# won't need because already removed retweets \n",
    "\n",
    "# df2 = df2[df2.Likes != 0]\n",
    "# df2 = df2[df2.Retweets != 0]\n",
    "# df2 = df2.reset_index(drop = True)\n",
    "# df2"
   ]
  },
  {
   "cell_type": "code",
   "execution_count": 17,
   "id": "a9ffcbd0",
   "metadata": {},
   "outputs": [],
   "source": [
    "# df2.to_csv(\"tweets.csv\")"
   ]
  },
  {
   "cell_type": "code",
   "execution_count": 18,
   "id": "c9afbb5f",
   "metadata": {},
   "outputs": [],
   "source": [
    "df2.to_csv(\"tweets.csv\")"
   ]
  },
  {
   "cell_type": "code",
   "execution_count": null,
   "id": "ee3a1773",
   "metadata": {},
   "outputs": [],
   "source": []
  }
 ],
 "metadata": {
  "kernelspec": {
   "display_name": "Python 3 (ipykernel)",
   "language": "python",
   "name": "python3"
  },
  "language_info": {
   "codemirror_mode": {
    "name": "ipython",
    "version": 3
   },
   "file_extension": ".py",
   "mimetype": "text/x-python",
   "name": "python",
   "nbconvert_exporter": "python",
   "pygments_lexer": "ipython3",
   "version": "3.11.0"
  }
 },
 "nbformat": 4,
 "nbformat_minor": 5
}
